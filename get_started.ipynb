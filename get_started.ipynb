{
 "cells": [
  {
   "cell_type": "code",
   "execution_count": null,
   "metadata": {},
   "outputs": [],
   "source": [
    "### MLFlow Tracking Server"
   ]
  },
  {
   "cell_type": "code",
   "execution_count": 1,
   "metadata": {},
   "outputs": [],
   "source": [
    "import mlflow"
   ]
  },
  {
   "cell_type": "code",
   "execution_count": null,
   "metadata": {},
   "outputs": [],
   "source": [
    "mlflow.set_tracking_uri(\"http://127.0.0.1:5000\") # all the tracking in mlflow carried on this url"
   ]
  },
  {
   "cell_type": "code",
   "execution_count": null,
   "metadata": {},
   "outputs": [],
   "source": [
    "# Step 1: Set up an experiment in MLflow\n",
    "# If the experiment \"check_local_host_connection\" exists, MLflow sets it as the active experiment.\n",
    "# If it does not exist, MLflow creates a new experiment with this name.\n",
    "mlflow.set_experiment(\"check_local_host_connection\")\n",
    "\n",
    "# Step 2: Start an MLflow run\n",
    "# A run is an instance within an experiment where MLflow records all tracking information.\n",
    "with mlflow.start_run():\n",
    "\n",
    "    # Step 3: Log a metric\n",
    "    # Metrics are numerical values used to track performance.\n",
    "    # Here, we log a metric named \"test\" with a value of 1.\n",
    "    mlflow.log_metric(\"test\", 1)\n",
    "\n",
    "    # Log another metric with name \"Balram\" and value 2.\n",
    "    # You can log multiple metrics inside a single run.\n",
    "    mlflow.log_metric(\"Balram\", 2)\n",
    "\n",
    "# Note:\n",
    "# - Metrics will be stored in the \"mlruns\" directory (default storage).\n",
    "# - You can view the logged metrics by running `mlflow ui` in the terminal.\n",
    "# - Open http://127.0.0.1:5000 in your browser to visualize the logged data.\n"
   ]
  },
  {
   "cell_type": "code",
   "execution_count": 4,
   "metadata": {},
   "outputs": [
    {
     "name": "stdout",
     "output_type": "stream",
     "text": [
      "🏃 View run spiffy-stork-688 at: http://127.0.0.1:5000/#/experiments/932142928318697922/runs/a694854027044ea9b88dcd227e559777\n",
      "🧪 View experiment at: http://127.0.0.1:5000/#/experiments/932142928318697922\n"
     ]
    }
   ],
   "source": [
    "mlflow.set_experiment(\"check local host connection\")\n",
    "\n",
    "with mlflow.start_run():\n",
    "    mlflow.log_metric(\"test2\",1)\n",
    "    mlflow.log_metric(\"Balram2\",2)"
   ]
  },
  {
   "cell_type": "code",
   "execution_count": null,
   "metadata": {},
   "outputs": [],
   "source": []
  }
 ],
 "metadata": {
  "kernelspec": {
   "display_name": "venv",
   "language": "python",
   "name": "python3"
  },
  "language_info": {
   "codemirror_mode": {
    "name": "ipython",
    "version": 3
   },
   "file_extension": ".py",
   "mimetype": "text/x-python",
   "name": "python",
   "nbconvert_exporter": "python",
   "pygments_lexer": "ipython3",
   "version": "3.11.0"
  }
 },
 "nbformat": 4,
 "nbformat_minor": 2
}
